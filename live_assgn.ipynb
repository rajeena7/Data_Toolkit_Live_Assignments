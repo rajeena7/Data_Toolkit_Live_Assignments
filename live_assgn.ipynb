{
 "cells": [
  {
   "cell_type": "code",
   "execution_count": null,
   "id": "5661e7da-b890-48a1-abbe-9668da782148",
   "metadata": {},
   "outputs": [],
   "source": [
    "# Demonstrate three different methods for creating identical 2D arrays in NumPy. Provide the code for each \n",
    "#method and the final output after each method"
   ]
  },
  {
   "cell_type": "code",
   "execution_count": null,
   "id": "939355f6-55ea-4ef6-9070-814bb22a1c6e",
   "metadata": {},
   "outputs": [],
   "source": [
    "#1. Using numpy.array"
   ]
  },
  {
   "cell_type": "code",
   "execution_count": 11,
   "id": "97a77e03-1fe5-46a9-96ab-588e7422ecb3",
   "metadata": {},
   "outputs": [
    {
     "name": "stdout",
     "output_type": "stream",
     "text": [
      "[[1 2 3]\n",
      " [4 5 6]\n",
      " [7 8 9]]\n"
     ]
    }
   ],
   "source": [
    "import numpy as np\n",
    "\n",
    "array1=np.array([[1,2,3],[4,5,6],[7,8,9]])\n",
    "print(array1)"
   ]
  },
  {
   "cell_type": "code",
   "execution_count": null,
   "id": "20537bd7-bb6a-4e04-bdb9-8177e2068b45",
   "metadata": {},
   "outputs": [],
   "source": [
    "#2.using np.arange and np.shape"
   ]
  },
  {
   "cell_type": "code",
   "execution_count": 20,
   "id": "cd271ada-d9e1-4f51-989f-e11aa7f397cc",
   "metadata": {},
   "outputs": [
    {
     "name": "stdout",
     "output_type": "stream",
     "text": [
      "[[1 2 3]\n",
      " [4 5 6]\n",
      " [7 8 9]]\n"
     ]
    }
   ],
   "source": [
    "array2=np.arange(1,10).reshape(3,3)\n",
    "print(array2)"
   ]
  },
  {
   "cell_type": "code",
   "execution_count": 23,
   "id": "acb7c95f-6388-4399-b18c-4781a6679ad2",
   "metadata": {},
   "outputs": [],
   "source": [
    "#3.using numpy.fromfunction"
   ]
  },
  {
   "cell_type": "code",
   "execution_count": 24,
   "id": "d43aafa7-333c-4cd3-9ff5-ce3301bf3c3e",
   "metadata": {},
   "outputs": [
    {
     "name": "stdout",
     "output_type": "stream",
     "text": [
      "[[1 2 3]\n",
      " [4 5 6]\n",
      " [7 8 9]]\n"
     ]
    }
   ],
   "source": [
    "array3=np.fromfunction(lambda i,j : 1+i * 3+j ,(3,3) , dtype=int)\n",
    "print(array3)"
   ]
  },
  {
   "cell_type": "code",
   "execution_count": null,
   "id": "6138d034-413c-439d-adfc-d7e6655efb24",
   "metadata": {},
   "outputs": [],
   "source": [
    "#2. Using the Numpy function, generate an array of 100 evenly spaced numbers between 1 and 10 and \n",
    "#Reshape that 1D array into a 2D array"
   ]
  },
  {
   "cell_type": "code",
   "execution_count": 32,
   "id": "be5bec3d-7f08-4591-ba50-d6e9eb69693e",
   "metadata": {},
   "outputs": [
    {
     "name": "stdout",
     "output_type": "stream",
     "text": [
      "[ 1.          1.09090909  1.18181818  1.27272727  1.36363636  1.45454545\n",
      "  1.54545455  1.63636364  1.72727273  1.81818182  1.90909091  2.\n",
      "  2.09090909  2.18181818  2.27272727  2.36363636  2.45454545  2.54545455\n",
      "  2.63636364  2.72727273  2.81818182  2.90909091  3.          3.09090909\n",
      "  3.18181818  3.27272727  3.36363636  3.45454545  3.54545455  3.63636364\n",
      "  3.72727273  3.81818182  3.90909091  4.          4.09090909  4.18181818\n",
      "  4.27272727  4.36363636  4.45454545  4.54545455  4.63636364  4.72727273\n",
      "  4.81818182  4.90909091  5.          5.09090909  5.18181818  5.27272727\n",
      "  5.36363636  5.45454545  5.54545455  5.63636364  5.72727273  5.81818182\n",
      "  5.90909091  6.          6.09090909  6.18181818  6.27272727  6.36363636\n",
      "  6.45454545  6.54545455  6.63636364  6.72727273  6.81818182  6.90909091\n",
      "  7.          7.09090909  7.18181818  7.27272727  7.36363636  7.45454545\n",
      "  7.54545455  7.63636364  7.72727273  7.81818182  7.90909091  8.\n",
      "  8.09090909  8.18181818  8.27272727  8.36363636  8.45454545  8.54545455\n",
      "  8.63636364  8.72727273  8.81818182  8.90909091  9.          9.09090909\n",
      "  9.18181818  9.27272727  9.36363636  9.45454545  9.54545455  9.63636364\n",
      "  9.72727273  9.81818182  9.90909091 10.        ]\n",
      "[[ 1.          1.09090909  1.18181818  1.27272727  1.36363636  1.45454545\n",
      "   1.54545455  1.63636364  1.72727273  1.81818182]\n",
      " [ 1.90909091  2.          2.09090909  2.18181818  2.27272727  2.36363636\n",
      "   2.45454545  2.54545455  2.63636364  2.72727273]\n",
      " [ 2.81818182  2.90909091  3.          3.09090909  3.18181818  3.27272727\n",
      "   3.36363636  3.45454545  3.54545455  3.63636364]\n",
      " [ 3.72727273  3.81818182  3.90909091  4.          4.09090909  4.18181818\n",
      "   4.27272727  4.36363636  4.45454545  4.54545455]\n",
      " [ 4.63636364  4.72727273  4.81818182  4.90909091  5.          5.09090909\n",
      "   5.18181818  5.27272727  5.36363636  5.45454545]\n",
      " [ 5.54545455  5.63636364  5.72727273  5.81818182  5.90909091  6.\n",
      "   6.09090909  6.18181818  6.27272727  6.36363636]\n",
      " [ 6.45454545  6.54545455  6.63636364  6.72727273  6.81818182  6.90909091\n",
      "   7.          7.09090909  7.18181818  7.27272727]\n",
      " [ 7.36363636  7.45454545  7.54545455  7.63636364  7.72727273  7.81818182\n",
      "   7.90909091  8.          8.09090909  8.18181818]\n",
      " [ 8.27272727  8.36363636  8.45454545  8.54545455  8.63636364  8.72727273\n",
      "   8.81818182  8.90909091  9.          9.09090909]\n",
      " [ 9.18181818  9.27272727  9.36363636  9.45454545  9.54545455  9.63636364\n",
      "   9.72727273  9.81818182  9.90909091 10.        ]]\n"
     ]
    }
   ],
   "source": [
    "array_line=np.linspace(1,10,100,)\n",
    "print(array_line)\n",
    "\n",
    "#reshaping 1D array to 2D array\n",
    "array_2d=array_line.reshape((10,10))\n",
    "print(array_2d)"
   ]
  },
  {
   "cell_type": "code",
   "execution_count": null,
   "id": "8650a81a-80fb-4424-9b54-fecb67a8380b",
   "metadata": {},
   "outputs": [],
   "source": [
    "# Explain the following terms\n",
    " #The difference in np.array, np.asarray and np.asanyarray\n",
    " #The difference between Deep copy and shallow copy"
   ]
  },
  {
   "cell_type": "code",
   "execution_count": 33,
   "id": "6550ae20-3916-4bd7-8e1f-83aa4ecabae1",
   "metadata": {},
   "outputs": [],
   "source": [
    "#np.array \n",
    "\n",
    "#np.array is a function used to create a new NumPy array from any object exposing the array interface, such as lists, tuples, or other arrays.\n",
    "#It always returns a new array, unless the input is already a NumPy array with the specified dtype.\n",
    "#Creates a new array\n",
    "#Copies data by default\n",
    "#Can change data type\n",
    "\n"
   ]
  },
  {
   "cell_type": "code",
   "execution_count": null,
   "id": "d61f8d14-46dd-4f75-a747-528341c3d282",
   "metadata": {},
   "outputs": [],
   "source": [
    "#np.asarray\n",
    "\n",
    "#np.asarray is similar to np.array, but with an important difference: it does not make a copy if the input is already a NumPy array \n",
    "#of the correct dtype. \n",
    "#This function is used to convert input to an array, but it avoids unnecessary data copying when possible.\n",
    "\n",
    "\n",
    "#Avoids copying\n",
    "#Cannot change data type"
   ]
  },
  {
   "cell_type": "code",
   "execution_count": null,
   "id": "9f67031d-8b45-49b8-9c36-e78eba548884",
   "metadata": {},
   "outputs": [],
   "source": [
    "#np.asanyarray\n",
    "#np.asanyarray is similar to np.asarray, but it passes through subclasses of ndarray. \n",
    "#This means that if the input is a subclass of ndarray (such as a masked array or matrix), it will return the input as is, preserving the subclass.\n",
    "\n",
    "#Preserves subclasses\n",
    "#Avoids copying\n"
   ]
  },
  {
   "cell_type": "code",
   "execution_count": null,
   "id": "d4063fcd-a520-4a52-96e9-f368d64c93b3",
   "metadata": {},
   "outputs": [],
   "source": [
    " #The difference between Deep copy and shallow copy\n",
    "    \n",
    "#Shallow Copy\n",
    "#A shallow copy creates a new object, but inserts references into it to the objects found in the original. \n",
    "#This means that the copy is only one level deep and modifications to objects inside the copied structure will reflect in the original, \n",
    "#since they reference the same objects.    \n",
    "    \n",
    "#Deep Copy\n",
    "#A deep copy creates a new object and recursively copies all objects found in the original, effectively duplicating the entire structure. \n",
    "#This means that the new object and the original object are completely independent of each other.    \n",
    "    "
   ]
  },
  {
   "cell_type": "code",
   "execution_count": null,
   "id": "de3b8ecd-5099-468e-9de3-eb303abd1821",
   "metadata": {},
   "outputs": [],
   "source": [
    "#4. Generate a 3x3 array with random floating-point numbers between 5 and 20. Then, round each number in \n",
    "#the array to 2 decimal places"
   ]
  },
  {
   "cell_type": "code",
   "execution_count": 10,
   "id": "f24e1ccb-e69c-464b-94b8-b5f5cc89b378",
   "metadata": {},
   "outputs": [
    {
     "name": "stdout",
     "output_type": "stream",
     "text": [
      "[[12.6052448  10.5202172   5.79126483]\n",
      " [16.68254505 15.00731994 15.20698047]\n",
      " [14.1175734   9.12157733 17.93311791]]\n"
     ]
    }
   ],
   "source": [
    "import numpy as np\n",
    "ran_array=np.random.uniform(5,20,(3,3))\n",
    "print(ran_array)\n",
    "\n"
   ]
  },
  {
   "cell_type": "code",
   "execution_count": 11,
   "id": "22083cb7-2012-4ff3-a2d4-685772c436b2",
   "metadata": {},
   "outputs": [
    {
     "name": "stdout",
     "output_type": "stream",
     "text": [
      "[[12.61 10.52  5.79]\n",
      " [16.68 15.01 15.21]\n",
      " [14.12  9.12 17.93]]\n"
     ]
    }
   ],
   "source": [
    "#rounding to 2 decimal points\n",
    "\n",
    "roun_array=np.round(ran_array,2)\n",
    "print(roun_array)\n"
   ]
  },
  {
   "cell_type": "code",
   "execution_count": null,
   "id": "a4305176-62fe-4fb5-a078-edc2e1ece0b5",
   "metadata": {},
   "outputs": [],
   "source": [
    "'''5.Create a NumPy array with random integers between 1 and 10 of shape (5, 6). After creating the array \n",
    "perform the following operations:\n",
    "\n",
    " a)Extract all even integers from array.\n",
    " b)Extract all odd integers from array'''"
   ]
  },
  {
   "cell_type": "code",
   "execution_count": 14,
   "id": "4f4da66a-38f6-4ec4-a4c7-8aedc39b500c",
   "metadata": {},
   "outputs": [
    {
     "name": "stdout",
     "output_type": "stream",
     "text": [
      "[[ 2  3  2  9  3 10]\n",
      " [ 5  8  2  5  9 10]\n",
      " [ 3  9  8  4  7  1]\n",
      " [ 4  6  7  1  2 10]\n",
      " [ 9  4  3  6  5  6]]\n"
     ]
    }
   ],
   "source": [
    "#creating random number b/w 1 and 10\n",
    "rand_array=np.random.randint(1,11,(5,6))\n",
    "print(rand_array)"
   ]
  },
  {
   "cell_type": "code",
   "execution_count": 15,
   "id": "4f531229-ef0d-4f78-905f-7f7352d99100",
   "metadata": {},
   "outputs": [
    {
     "name": "stdout",
     "output_type": "stream",
     "text": [
      "[ 2  2 10  8  2 10  8  4  4  6  2 10  4  6  6]\n"
     ]
    }
   ],
   "source": [
    "#a)Extract all even integers from array.\n",
    "\n",
    "even_rand=rand_array[rand_array %2==0]\n",
    "print(even_rand)"
   ]
  },
  {
   "cell_type": "code",
   "execution_count": 16,
   "id": "cda79752-7526-4e69-ae0d-724fd2c80aae",
   "metadata": {},
   "outputs": [
    {
     "name": "stdout",
     "output_type": "stream",
     "text": [
      "[3 9 3 5 5 9 3 9 7 1 7 1 9 3 5]\n"
     ]
    }
   ],
   "source": [
    "# b)Extract all odd integers from array\n",
    "\n",
    "odd_rand=rand_array[rand_array %2!=0]\n",
    "print(odd_rand)"
   ]
  },
  {
   "cell_type": "code",
   "execution_count": null,
   "id": "3c3743f7-331a-40dd-baf9-fe473f683fca",
   "metadata": {},
   "outputs": [],
   "source": [
    "'''6.Create a 3D NumPy array of shape (3, 3, 3) containing random integers between 1 and 10. Perform the \n",
    "following operations:\n",
    "\n",
    " a) Find the indices of the maximum values along each depth level (third axis).\n",
    " b) Perform element-wise multiplication of between both array'''"
   ]
  },
  {
   "cell_type": "code",
   "execution_count": 17,
   "id": "8a2df0d6-0da3-4f85-84f9-734482c3d875",
   "metadata": {},
   "outputs": [
    {
     "name": "stdout",
     "output_type": "stream",
     "text": [
      "[[[ 4 10  3]\n",
      "  [ 7  5  4]\n",
      "  [ 1 10 10]]\n",
      "\n",
      " [[ 1  3  1]\n",
      "  [ 3 10  7]\n",
      "  [ 5  7  1]]\n",
      "\n",
      " [[ 8  2  2]\n",
      "  [10  7  8]\n",
      "  [ 5  5  7]]]\n"
     ]
    }
   ],
   "source": [
    "#3D NumPy array of shape (3, 3, 3) containing random integers between 1 and 10\n",
    "array_3=np.random.randint(1,11,(3,3,3))\n",
    "print(array_3)"
   ]
  },
  {
   "cell_type": "code",
   "execution_count": 18,
   "id": "cad55aab-b839-426d-813e-7938d4619057",
   "metadata": {},
   "outputs": [
    {
     "name": "stdout",
     "output_type": "stream",
     "text": [
      "[[1 0 1]\n",
      " [1 1 1]\n",
      " [0 0 2]]\n"
     ]
    }
   ],
   "source": [
    "#a) Find the indices of the maximum values along each depth level (third axis).\n",
    "\n",
    "max_array=np.argmax(array_3,axis=2)\n",
    "print(max_array)\n"
   ]
  },
  {
   "cell_type": "code",
   "execution_count": 19,
   "id": "8ecb778b-b8f0-4da3-84e4-2be127551f47",
   "metadata": {},
   "outputs": [
    {
     "name": "stdout",
     "output_type": "stream",
     "text": [
      "[[[ 16 100   9]\n",
      "  [ 49  25  16]\n",
      "  [  1 100 100]]\n",
      "\n",
      " [[  1   9   1]\n",
      "  [  9 100  49]\n",
      "  [ 25  49   1]]\n",
      "\n",
      " [[ 64   4   4]\n",
      "  [100  49  64]\n",
      "  [ 25  25  49]]]\n"
     ]
    }
   ],
   "source": [
    "#b) Perform element-wise multiplication of between both array\n",
    "\n",
    "ele_mul=array_3*array_3\n",
    "print(ele_mul)\n"
   ]
  },
  {
   "cell_type": "code",
   "execution_count": null,
   "id": "404db236-9f63-4c72-b793-6ace6e7b0a61",
   "metadata": {},
   "outputs": [],
   "source": []
  }
 ],
 "metadata": {
  "kernelspec": {
   "display_name": "Python 3 (ipykernel)",
   "language": "python",
   "name": "python3"
  },
  "language_info": {
   "codemirror_mode": {
    "name": "ipython",
    "version": 3
   },
   "file_extension": ".py",
   "mimetype": "text/x-python",
   "name": "python",
   "nbconvert_exporter": "python",
   "pygments_lexer": "ipython3",
   "version": "3.10.8"
  }
 },
 "nbformat": 4,
 "nbformat_minor": 5
}
